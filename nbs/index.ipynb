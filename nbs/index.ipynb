{
 "cells": [
  {
   "cell_type": "code",
   "execution_count": null,
   "metadata": {},
   "outputs": [],
   "source": [
    "#| hide\n",
    "#from estout.core import *"
   ]
  },
  {
   "attachments": {},
   "cell_type": "markdown",
   "metadata": {},
   "source": [
    "# estout\n",
    "\n",
    "> Collect outputs from stats packages and export them to pd.DataFrame and LaTex"
   ]
  },
  {
   "attachments": {},
   "cell_type": "markdown",
   "metadata": {},
   "source": [
    "This file will become your README and also the index of your documentation."
   ]
  },
  {
   "attachments": {},
   "cell_type": "markdown",
   "metadata": {},
   "source": [
    "## Install"
   ]
  },
  {
   "attachments": {},
   "cell_type": "markdown",
   "metadata": {},
   "source": [
    "```sh\n",
    "pip install estout\n",
    "```"
   ]
  },
  {
   "attachments": {},
   "cell_type": "markdown",
   "metadata": {},
   "source": [
    "## How to use"
   ]
  },
  {
   "attachments": {},
   "cell_type": "markdown",
   "metadata": {},
   "source": [
    "Set up an example dataset and run a few regressions to showcase the functions in this module."
   ]
  },
  {
   "cell_type": "code",
   "execution_count": null,
   "metadata": {},
   "outputs": [],
   "source": [
    "import numpy as np\n",
    "import pandas as pd\n",
    "import statsmodels.api as sm\n",
    "from linearmodels import PanelOLS\n",
    "import estout"
   ]
  },
  {
   "cell_type": "code",
   "execution_count": null,
   "metadata": {},
   "outputs": [],
   "source": [
    "np.random.seed(123)\n",
    "df = pd.DataFrame(np.random.rand(9,3), \n",
    "                  columns=['y','x','z'],\n",
    "                  index = pd.MultiIndex.from_product([[1,2,3],[1,2,3]], names=['firmid','time'])\n",
    "                  ).assign(cons = 1)\n",
    "sm1 = sm.OLS(df['y'], df[['cons','x']]).fit()\n",
    "sm2 = sm.OLS(df['y'], df[['cons','x','z']]).fit().get_robustcov_results(cov_type='HAC', maxlags=2)\n",
    "lmres = PanelOLS(df['y'],  df[['cons','x','z']], entity_effects=True\n",
    "                 ).fit(cov_type='clustered', cluster_entity=True)"
   ]
  },
  {
   "attachments": {},
   "cell_type": "markdown",
   "metadata": {},
   "source": [
    "### Extracting statistics after fitting a model"
   ]
  },
  {
   "attachments": {},
   "cell_type": "markdown",
   "metadata": {},
   "source": [
    "Collect just the default set of statistics from the `sm1` object:"
   ]
  },
  {
   "cell_type": "code",
   "execution_count": null,
   "metadata": {},
   "outputs": [
    {
     "data": {
      "text/plain": [
       "{'package': 'statsmodels',\n",
       " 'ynames': ['y'],\n",
       " 'xnames': ['cons', 'x'],\n",
       " 'params': cons    0.507852\n",
       " x       0.345003\n",
       " dtype: float64,\n",
       " 'tstats': cons    3.905440\n",
       " x       1.292246\n",
       " dtype: float64,\n",
       " 'pvalues': cons    0.005858\n",
       " x       0.237293\n",
       " dtype: float64,\n",
       " 'covmat':           cons         x\n",
       " cons  0.016910 -0.030531\n",
       " x    -0.030531  0.071278,\n",
       " 'se': cons    0.130037\n",
       " x       0.266979\n",
       " dtype: float64,\n",
       " 'r2': 0.19260886185799486,\n",
       " 'nobs': 9}"
      ]
     },
     "execution_count": null,
     "metadata": {},
     "output_type": "execute_result"
    }
   ],
   "source": [
    "estout.collect_stats(sm1)"
   ]
  },
  {
   "attachments": {},
   "cell_type": "markdown",
   "metadata": {},
   "source": [
    "Collect statistics by specifying the name of their attribute in the results object:"
   ]
  },
  {
   "cell_type": "code",
   "execution_count": null,
   "metadata": {},
   "outputs": [
    {
     "data": {
      "text/plain": [
       "{'package': 'statsmodels',\n",
       " 'xnames': ['cons', 'x'],\n",
       " 'Adj. R2': 0.07726727069485129}"
      ]
     },
     "execution_count": null,
     "metadata": {},
     "output_type": "execute_result"
    }
   ],
   "source": [
    "estout.collect_stats(sm1, get_default_stats=False, add_stats={'xnames': 'model.exog_names',\n",
    "                                                              'Adj. R2': 'rsquared_adj'})"
   ]
  },
  {
   "attachments": {},
   "cell_type": "markdown",
   "metadata": {},
   "source": [
    "Add scalar statistics not available as attributes of the results object:"
   ]
  },
  {
   "cell_type": "code",
   "execution_count": null,
   "metadata": {},
   "outputs": [
    {
     "data": {
      "text/plain": [
       "{'package': 'statsmodels', 'Fixed Effects': 'No', 'Nr observations': 123}"
      ]
     },
     "execution_count": null,
     "metadata": {},
     "output_type": "execute_result"
    }
   ],
   "source": [
    "estout.collect_stats(sm1, get_default_stats=False, add_literals={'Fixed Effects': 'No', \n",
    "                                                                 'Nr observations': 123})"
   ]
  },
  {
   "attachments": {},
   "cell_type": "markdown",
   "metadata": {},
   "source": [
    "### Combining model results into a DataFrame"
   ]
  },
  {
   "cell_type": "code",
   "execution_count": null,
   "metadata": {},
   "outputs": [],
   "source": []
  },
  {
   "cell_type": "code",
   "execution_count": null,
   "metadata": {},
   "outputs": [],
   "source": []
  },
  {
   "cell_type": "code",
   "execution_count": null,
   "metadata": {},
   "outputs": [],
   "source": []
  },
  {
   "cell_type": "code",
   "execution_count": null,
   "metadata": {},
   "outputs": [],
   "source": []
  },
  {
   "cell_type": "code",
   "execution_count": null,
   "metadata": {},
   "outputs": [],
   "source": []
  },
  {
   "cell_type": "code",
   "execution_count": null,
   "metadata": {},
   "outputs": [],
   "source": []
  }
 ],
 "metadata": {
  "kernelspec": {
   "display_name": "python3",
   "language": "python",
   "name": "python3"
  }
 },
 "nbformat": 4,
 "nbformat_minor": 4
}
