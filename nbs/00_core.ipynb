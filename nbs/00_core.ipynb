{
 "cells": [
  {
   "attachments": {},
   "cell_type": "markdown",
   "metadata": {},
   "source": [
    "# core\n",
    "\n",
    "> Python package that helps collect outputs of statistical analyses into tables and export them to LaTex and pdf (similar the ``estout`` and ``esttab`` commands in Stata)."
   ]
  },
  {
   "cell_type": "code",
   "execution_count": null,
   "metadata": {},
   "outputs": [],
   "source": [
    "#| default_exp core"
   ]
  },
  {
   "cell_type": "code",
   "execution_count": null,
   "metadata": {},
   "outputs": [],
   "source": [
    "#| hide \n",
    "from nbdev.showdoc import *\n",
    "from nbdev.test import *"
   ]
  },
  {
   "cell_type": "code",
   "execution_count": null,
   "metadata": {},
   "outputs": [],
   "source": [
    "#| export\n",
    "from typing import List, Dict, Tuple\n",
    "import importlib\n",
    "import numpy as np\n",
    "import pandas as pd\n",
    "\n",
    "import statsmodels.api as sm\n",
    "from linearmodels import PanelOLS\n",
    "\n",
    "from estout.utils import *"
   ]
  },
  {
   "cell_type": "code",
   "execution_count": null,
   "metadata": {},
   "outputs": [
    {
     "data": {
      "text/html": [
       "<div>\n",
       "<style scoped>\n",
       "    .dataframe tbody tr th:only-of-type {\n",
       "        vertical-align: middle;\n",
       "    }\n",
       "\n",
       "    .dataframe tbody tr th {\n",
       "        vertical-align: top;\n",
       "    }\n",
       "\n",
       "    .dataframe thead th {\n",
       "        text-align: right;\n",
       "    }\n",
       "</style>\n",
       "<table border=\"1\" class=\"dataframe\">\n",
       "  <thead>\n",
       "    <tr style=\"text-align: right;\">\n",
       "      <th></th>\n",
       "      <th></th>\n",
       "      <th>y</th>\n",
       "      <th>x</th>\n",
       "      <th>constant</th>\n",
       "    </tr>\n",
       "    <tr>\n",
       "      <th>firmid</th>\n",
       "      <th>time</th>\n",
       "      <th></th>\n",
       "      <th></th>\n",
       "      <th></th>\n",
       "    </tr>\n",
       "  </thead>\n",
       "  <tbody>\n",
       "    <tr>\n",
       "      <th rowspan=\"3\" valign=\"top\">1</th>\n",
       "      <th>1</th>\n",
       "      <td>0.548814</td>\n",
       "      <td>0.715189</td>\n",
       "      <td>1</td>\n",
       "    </tr>\n",
       "    <tr>\n",
       "      <th>2</th>\n",
       "      <td>0.602763</td>\n",
       "      <td>0.544883</td>\n",
       "      <td>1</td>\n",
       "    </tr>\n",
       "    <tr>\n",
       "      <th>3</th>\n",
       "      <td>0.423655</td>\n",
       "      <td>0.645894</td>\n",
       "      <td>1</td>\n",
       "    </tr>\n",
       "    <tr>\n",
       "      <th rowspan=\"3\" valign=\"top\">2</th>\n",
       "      <th>1</th>\n",
       "      <td>0.437587</td>\n",
       "      <td>0.891773</td>\n",
       "      <td>1</td>\n",
       "    </tr>\n",
       "    <tr>\n",
       "      <th>2</th>\n",
       "      <td>0.963663</td>\n",
       "      <td>0.383442</td>\n",
       "      <td>1</td>\n",
       "    </tr>\n",
       "    <tr>\n",
       "      <th>3</th>\n",
       "      <td>0.791725</td>\n",
       "      <td>0.528895</td>\n",
       "      <td>1</td>\n",
       "    </tr>\n",
       "    <tr>\n",
       "      <th rowspan=\"3\" valign=\"top\">3</th>\n",
       "      <th>1</th>\n",
       "      <td>0.568045</td>\n",
       "      <td>0.925597</td>\n",
       "      <td>1</td>\n",
       "    </tr>\n",
       "    <tr>\n",
       "      <th>2</th>\n",
       "      <td>0.071036</td>\n",
       "      <td>0.087129</td>\n",
       "      <td>1</td>\n",
       "    </tr>\n",
       "    <tr>\n",
       "      <th>3</th>\n",
       "      <td>0.020218</td>\n",
       "      <td>0.832620</td>\n",
       "      <td>1</td>\n",
       "    </tr>\n",
       "  </tbody>\n",
       "</table>\n",
       "</div>"
      ],
      "text/plain": [
       "                    y         x  constant\n",
       "firmid time                              \n",
       "1      1     0.548814  0.715189         1\n",
       "       2     0.602763  0.544883         1\n",
       "       3     0.423655  0.645894         1\n",
       "2      1     0.437587  0.891773         1\n",
       "       2     0.963663  0.383442         1\n",
       "       3     0.791725  0.528895         1\n",
       "3      1     0.568045  0.925597         1\n",
       "       2     0.071036  0.087129         1\n",
       "       3     0.020218  0.832620         1"
      ]
     },
     "execution_count": null,
     "metadata": {},
     "output_type": "execute_result"
    }
   ],
   "source": [
    "np.random.seed(0)\n",
    "df = pd.DataFrame(np.random.rand(9,2), columns=['y','x'])\n",
    "df['firmid'] = [1]*3 + [2]*3 + [3]*3\n",
    "df['time'] = [1,2,3]*3\n",
    "df['constant'] = 1\n",
    "df = df.set_index(['firmid','time'])\n",
    "df"
   ]
  },
  {
   "cell_type": "code",
   "execution_count": null,
   "metadata": {},
   "outputs": [],
   "source": [
    "sm1 = sm.OLS(df['y'], df[['constant','x']]).fit()\n",
    "sm2 = sm.OLS(df['y'], df[['constant','x']]).fit().get_robustcov_results(cov_type='HAC', maxlags=2)\n",
    "lmres = PanelOLS(df['y'],  df[['constant','x']], entity_effects=True\n",
    "                 ).fit(cov_type='clustered', cluster_entity=True)"
   ]
  },
  {
   "cell_type": "code",
   "execution_count": null,
   "metadata": {},
   "outputs": [],
   "source": [
    "#| export\n",
    "def collect_stats(res, # results object to extract stats from\n",
    "                  package: str, # name of package that generated 'res' object\n",
    "                  get_default_stats = True, # if True, returns all stats implemented by the f'{package}_results' module\n",
    "                  add_stats: dict=None, # keys are stats to extract in addition to the default ones, values are attributes of 'res'\n",
    "                  add_literals: dict=None, # additional info to be added to output dict as literal strings\n",
    "                  ) -> dict:\n",
    "    \"\"\"Collects stats from 'res' object. stats in 'add_stats' can override defaults.\"\"\"\n",
    "\n",
    "    out = {}\n",
    "    out['package'] = package\n",
    "    results_module = importlib.import_module(f\"estout.{package}_results\")\n",
    "\n",
    "    if get_default_stats:\n",
    "        for stat in results_module.default_stats():\n",
    "            out[stat] = rgetattr(results_module, stat)(res)\n",
    "\n",
    "    if add_stats is not None:\n",
    "        for stat, attr in add_stats.items():\n",
    "            out[stat] = rgetattr(res, attr)\n",
    "\n",
    "    if add_literals is not None:\n",
    "        out.update(add_literals)\n",
    "        \n",
    "    return out"
   ]
  },
  {
   "cell_type": "code",
   "execution_count": null,
   "metadata": {},
   "outputs": [],
   "source": [
    "stats1 = collect_stats(sm1, package='statsmodels')\n",
    "stats2 = collect_stats(sm2, package='statsmodels', add_literals={'Cov Type': 'Newey West'})\n",
    "stats3 = collect_stats(lmres, package='linearmodels', add_stats={'r2b': 'rsquared_between', 'FE':'included_effects'})"
   ]
  },
  {
   "cell_type": "code",
   "execution_count": null,
   "metadata": {},
   "outputs": [],
   "source": [
    "assert stats2['Cov Type'] == 'Newey West'"
   ]
  },
  {
   "cell_type": "code",
   "execution_count": null,
   "metadata": {},
   "outputs": [
    {
     "data": {
      "text/plain": [
       "{'package': 'linearmodels',\n",
       " 'ynames': ['y'],\n",
       " 'xnames': ['constant', 'x'],\n",
       " 'params': constant    0.495446\n",
       " x          -0.005671\n",
       " Name: parameter, dtype: float64,\n",
       " 'tstats': constant    2.014245\n",
       " x          -0.014231\n",
       " Name: tstat, dtype: float64,\n",
       " 'pvalues': constant    0.100103\n",
       " x           0.989196\n",
       " Name: pvalue, dtype: float64,\n",
       " 'covmat':           constant         x\n",
       " constant  0.060502 -0.098015\n",
       " x        -0.098015  0.158788,\n",
       " 'se': constant    0.245971\n",
       " x           0.398482\n",
       " dtype: float64,\n",
       " 'r2': 5.3676782504452625e-05,\n",
       " 'nobs': 9,\n",
       " 'r2b': 0.00022411078437101217,\n",
       " 'FE': ['Entity']}"
      ]
     },
     "execution_count": null,
     "metadata": {},
     "output_type": "execute_result"
    }
   ],
   "source": [
    "stats3"
   ]
  },
  {
   "cell_type": "code",
   "execution_count": null,
   "metadata": {},
   "outputs": [
    {
     "data": {
      "text/plain": [
       "0.00022411078437101217"
      ]
     },
     "execution_count": null,
     "metadata": {},
     "output_type": "execute_result"
    }
   ],
   "source": [
    "stats3['r2b']"
   ]
  },
  {
   "cell_type": "code",
   "execution_count": null,
   "metadata": {},
   "outputs": [
    {
     "data": {
      "text/plain": [
       "['Entity']"
      ]
     },
     "execution_count": null,
     "metadata": {},
     "output_type": "execute_result"
    }
   ],
   "source": [
    "stats3['FE']"
   ]
  },
  {
   "cell_type": "code",
   "execution_count": null,
   "metadata": {},
   "outputs": [],
   "source": [
    "#| export\n",
    "def to_df(res_list: List[dict], # list of outputs from `collect_stats()`\n",
    "          which_xvars: list=None, # if None, report all xvars\n",
    "          stats_body: list=['params', 'tstats'], # each element of 'res_list' needs to have these stats as keys; values must be pd.Series\n",
    "          stats_bottom: list=['r2', 'nobs'], # each element of 'res_list' needs to have these stats as keys; values must be scalars\n",
    "          labels: dict=None \n",
    "          ) -> pd.DataFrame: \n",
    "    \"\"\"Combines results from multiple `collect_stats()` outputs into a single pd.DataFrame\"\"\"  \n",
    "    \n",
    "    allstats = stats_body + stats_bottom\n",
    "    ncols = len(res_list)\n",
    "    dct = {}\n",
    "    for stat in stats_body:\n",
    "        dct[stat] = pd.concat([res[stat] for res in res_list], axis=1)\n",
    "        dct[stat].index = stat + '_' + dct[stat].index\n",
    "\n",
    "    return dct"
   ]
  },
  {
   "cell_type": "code",
   "execution_count": null,
   "metadata": {},
   "outputs": [],
   "source": [
    "d = to_df([stats1, stats2, stats3])"
   ]
  },
  {
   "cell_type": "code",
   "execution_count": null,
   "metadata": {},
   "outputs": [
    {
     "data": {
      "text/plain": [
       "{'params':                         0         1  parameter\n",
       " params_constant  0.503847  0.503847   0.495446\n",
       " params_x        -0.019281 -0.019281  -0.005671,\n",
       " 'tstats':                         0         1     tstat\n",
       " tstats_constant  1.762032  1.543043  2.014245\n",
       " tstats_x        -0.044981 -0.049299 -0.014231}"
      ]
     },
     "execution_count": null,
     "metadata": {},
     "output_type": "execute_result"
    }
   ],
   "source": [
    "d"
   ]
  },
  {
   "cell_type": "code",
   "execution_count": null,
   "metadata": {},
   "outputs": [],
   "source": [
    "#| export\n",
    "def to_tex(get_pdf=True, open_pdf=False):\n",
    "    pass"
   ]
  },
  {
   "cell_type": "code",
   "execution_count": null,
   "metadata": {},
   "outputs": [],
   "source": []
  },
  {
   "cell_type": "code",
   "execution_count": null,
   "metadata": {},
   "outputs": [],
   "source": [
    "#| hide\n",
    "import nbdev; nbdev.nbdev_export()"
   ]
  }
 ],
 "metadata": {
  "kernelspec": {
   "display_name": "python3",
   "language": "python",
   "name": "python3"
  }
 },
 "nbformat": 4,
 "nbformat_minor": 4
}
