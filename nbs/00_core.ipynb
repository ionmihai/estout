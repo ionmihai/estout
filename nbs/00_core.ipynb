{
 "cells": [
  {
   "attachments": {},
   "cell_type": "markdown",
   "metadata": {},
   "source": [
    "# core\n",
    "\n",
    "> Python package that helps collect outputs of statistical analyses into tables and export them to LaTex and pdf (similar the ``estout`` and ``esttab`` commands in Stata)."
   ]
  },
  {
   "cell_type": "code",
   "execution_count": null,
   "metadata": {},
   "outputs": [],
   "source": [
    "#| default_exp core"
   ]
  },
  {
   "cell_type": "code",
   "execution_count": null,
   "metadata": {},
   "outputs": [],
   "source": [
    "#| hide \n",
    "from nbdev.showdoc import *\n",
    "from nbdev.test import *"
   ]
  },
  {
   "cell_type": "code",
   "execution_count": null,
   "metadata": {},
   "outputs": [],
   "source": [
    "#| export\n",
    "from typing import List, Dict, Tuple\n",
    "import importlib\n",
    "import numpy as np\n",
    "import pandas as pd\n",
    "\n",
    "import statsmodels.api as sm\n",
    "from linearmodels import PanelOLS\n",
    "\n",
    "from estout.utils import *"
   ]
  },
  {
   "cell_type": "code",
   "execution_count": null,
   "metadata": {},
   "outputs": [
    {
     "data": {
      "text/html": [
       "<div>\n",
       "<style scoped>\n",
       "    .dataframe tbody tr th:only-of-type {\n",
       "        vertical-align: middle;\n",
       "    }\n",
       "\n",
       "    .dataframe tbody tr th {\n",
       "        vertical-align: top;\n",
       "    }\n",
       "\n",
       "    .dataframe thead th {\n",
       "        text-align: right;\n",
       "    }\n",
       "</style>\n",
       "<table border=\"1\" class=\"dataframe\">\n",
       "  <thead>\n",
       "    <tr style=\"text-align: right;\">\n",
       "      <th></th>\n",
       "      <th></th>\n",
       "      <th>y</th>\n",
       "      <th>x</th>\n",
       "      <th>z</th>\n",
       "      <th>cons</th>\n",
       "    </tr>\n",
       "    <tr>\n",
       "      <th>firmid</th>\n",
       "      <th>time</th>\n",
       "      <th></th>\n",
       "      <th></th>\n",
       "      <th></th>\n",
       "      <th></th>\n",
       "    </tr>\n",
       "  </thead>\n",
       "  <tbody>\n",
       "    <tr>\n",
       "      <th rowspan=\"3\" valign=\"top\">1</th>\n",
       "      <th>1</th>\n",
       "      <td>0.696469</td>\n",
       "      <td>0.286139</td>\n",
       "      <td>0.226851</td>\n",
       "      <td>1</td>\n",
       "    </tr>\n",
       "    <tr>\n",
       "      <th>2</th>\n",
       "      <td>0.551315</td>\n",
       "      <td>0.719469</td>\n",
       "      <td>0.423106</td>\n",
       "      <td>1</td>\n",
       "    </tr>\n",
       "    <tr>\n",
       "      <th>3</th>\n",
       "      <td>0.980764</td>\n",
       "      <td>0.684830</td>\n",
       "      <td>0.480932</td>\n",
       "      <td>1</td>\n",
       "    </tr>\n",
       "    <tr>\n",
       "      <th rowspan=\"3\" valign=\"top\">2</th>\n",
       "      <th>1</th>\n",
       "      <td>0.392118</td>\n",
       "      <td>0.343178</td>\n",
       "      <td>0.729050</td>\n",
       "      <td>1</td>\n",
       "    </tr>\n",
       "    <tr>\n",
       "      <th>2</th>\n",
       "      <td>0.438572</td>\n",
       "      <td>0.059678</td>\n",
       "      <td>0.398044</td>\n",
       "      <td>1</td>\n",
       "    </tr>\n",
       "    <tr>\n",
       "      <th>3</th>\n",
       "      <td>0.737995</td>\n",
       "      <td>0.182492</td>\n",
       "      <td>0.175452</td>\n",
       "      <td>1</td>\n",
       "    </tr>\n",
       "    <tr>\n",
       "      <th rowspan=\"3\" valign=\"top\">3</th>\n",
       "      <th>1</th>\n",
       "      <td>0.531551</td>\n",
       "      <td>0.531828</td>\n",
       "      <td>0.634401</td>\n",
       "      <td>1</td>\n",
       "    </tr>\n",
       "    <tr>\n",
       "      <th>2</th>\n",
       "      <td>0.849432</td>\n",
       "      <td>0.724455</td>\n",
       "      <td>0.611024</td>\n",
       "      <td>1</td>\n",
       "    </tr>\n",
       "    <tr>\n",
       "      <th>3</th>\n",
       "      <td>0.722443</td>\n",
       "      <td>0.322959</td>\n",
       "      <td>0.361789</td>\n",
       "      <td>1</td>\n",
       "    </tr>\n",
       "  </tbody>\n",
       "</table>\n",
       "</div>"
      ],
      "text/plain": [
       "                    y         x         z  cons\n",
       "firmid time                                    \n",
       "1      1     0.696469  0.286139  0.226851     1\n",
       "       2     0.551315  0.719469  0.423106     1\n",
       "       3     0.980764  0.684830  0.480932     1\n",
       "2      1     0.392118  0.343178  0.729050     1\n",
       "       2     0.438572  0.059678  0.398044     1\n",
       "       3     0.737995  0.182492  0.175452     1\n",
       "3      1     0.531551  0.531828  0.634401     1\n",
       "       2     0.849432  0.724455  0.611024     1\n",
       "       3     0.722443  0.322959  0.361789     1"
      ]
     },
     "execution_count": null,
     "metadata": {},
     "output_type": "execute_result"
    }
   ],
   "source": [
    "np.random.seed(123)\n",
    "df = pd.DataFrame(np.random.rand(9,3), columns=['y','x','z'])\n",
    "df['firmid'] = [1]*3 + [2]*3 + [3]*3\n",
    "df['time'] = [1,2,3]*3\n",
    "df['cons'] = 1\n",
    "df = df.set_index(['firmid','time'])\n",
    "df"
   ]
  },
  {
   "cell_type": "code",
   "execution_count": null,
   "metadata": {},
   "outputs": [],
   "source": [
    "sm1 = sm.OLS(df['y'], df[['cons','x']]).fit()\n",
    "sm2 = sm.OLS(df['y'], df[['cons','x','z']]).fit().get_robustcov_results(cov_type='HAC', maxlags=2)\n",
    "lmres = PanelOLS(df['y'],  df[['cons','x','z']], entity_effects=True\n",
    "                 ).fit(cov_type='clustered', cluster_entity=True)"
   ]
  },
  {
   "cell_type": "code",
   "execution_count": null,
   "metadata": {},
   "outputs": [],
   "source": [
    "#| export\n",
    "def collect_stats(res, # results object to extract stats from\n",
    "                  package: str, # name of package that generated 'res' object\n",
    "                  get_default_stats = True, # if True, returns all stats implemented by the f'{package}_results' module\n",
    "                  add_stats: dict=None, # keys are stats to extract in addition to the default ones, values are attributes of 'res'\n",
    "                  add_literals: dict=None, # additional info to be added to output dict as literal strings\n",
    "                  ) -> dict:\n",
    "    \"\"\"Collects stats from 'res' object. stats in 'add_stats' can override defaults.\"\"\"\n",
    "\n",
    "    out = {}\n",
    "    out['package'] = package\n",
    "    results_module = importlib.import_module(f\"estout.{package}_results\")\n",
    "\n",
    "    if get_default_stats:\n",
    "        for stat in results_module.default_stats():\n",
    "            out[stat] = rgetattr(results_module, stat)(res)\n",
    "\n",
    "    if add_stats is not None:\n",
    "        for stat, attr in add_stats.items():\n",
    "            out[stat] = rgetattr(res, attr)\n",
    "\n",
    "    if add_literals is not None:\n",
    "        out.update(add_literals)\n",
    "        \n",
    "    return out"
   ]
  },
  {
   "cell_type": "code",
   "execution_count": null,
   "metadata": {},
   "outputs": [],
   "source": [
    "stats1 = collect_stats(sm1, package='statsmodels')\n",
    "stats2 = collect_stats(sm2, package='statsmodels', add_literals={'Cov Type': 'Newey West'})\n",
    "stats3 = collect_stats(lmres, package='linearmodels', add_stats={'r2b': 'rsquared_between', 'FE':'included_effects'})"
   ]
  },
  {
   "cell_type": "code",
   "execution_count": null,
   "metadata": {},
   "outputs": [],
   "source": [
    "assert stats2['Cov Type'] == 'Newey West'"
   ]
  },
  {
   "cell_type": "code",
   "execution_count": null,
   "metadata": {},
   "outputs": [
    {
     "data": {
      "text/plain": [
       "{'package': 'linearmodels',\n",
       " 'ynames': ['y'],\n",
       " 'xnames': ['cons', 'x', 'z'],\n",
       " 'params': cons    0.728016\n",
       " x       0.643274\n",
       " z      -0.774956\n",
       " Name: parameter, dtype: float64,\n",
       " 'tstats': cons    167.358372\n",
       " x         2.262089\n",
       " z        -2.909770\n",
       " Name: tstat, dtype: float64,\n",
       " 'pvalues': cons    7.646419e-09\n",
       " x       8.648041e-02\n",
       " z       4.368821e-02\n",
       " Name: pvalue, dtype: float64,\n",
       " 'covmat':           cons         x         z\n",
       " cons  0.000019 -0.000652  0.000580\n",
       " x    -0.000652  0.080867 -0.075700\n",
       " z     0.000580 -0.075700  0.070931,\n",
       " 'se': cons    0.004350\n",
       " x       0.284371\n",
       " z       0.266329\n",
       " dtype: float64,\n",
       " 'r2': 0.35189790336774396,\n",
       " 'nobs': 9,\n",
       " 'r2b': 0.7954933715233714,\n",
       " 'FE': ['Entity']}"
      ]
     },
     "execution_count": null,
     "metadata": {},
     "output_type": "execute_result"
    }
   ],
   "source": [
    "stats3"
   ]
  },
  {
   "cell_type": "code",
   "execution_count": null,
   "metadata": {},
   "outputs": [
    {
     "data": {
      "text/plain": [
       "0.7954933715233714"
      ]
     },
     "execution_count": null,
     "metadata": {},
     "output_type": "execute_result"
    }
   ],
   "source": [
    "stats3['r2b']"
   ]
  },
  {
   "cell_type": "code",
   "execution_count": null,
   "metadata": {},
   "outputs": [
    {
     "data": {
      "text/plain": [
       "['Entity']"
      ]
     },
     "execution_count": null,
     "metadata": {},
     "output_type": "execute_result"
    }
   ],
   "source": [
    "stats3['FE']"
   ]
  },
  {
   "cell_type": "code",
   "execution_count": null,
   "metadata": {},
   "outputs": [],
   "source": [
    "#| export\n",
    "def to_df(res_list: List[dict], # list of outputs from `collect_stats()`\n",
    "          which_xvars: list=None, # if None, report all xvars\n",
    "          stats_body: list=['params', 'tstats'], # each element of 'res_list' needs to have these stats as keys; values must be pd.Series\n",
    "          stats_bottom: list=['r2', 'nobs'], # each element of 'res_list' needs to have these stats as keys; values must be scalars\n",
    "          labels: dict=None,\n",
    "          add_formats: dict=None  \n",
    "          ) -> pd.DataFrame: \n",
    "    \"\"\"Combines results from multiple `collect_stats()` outputs into a single pd.DataFrame\"\"\"  \n",
    "    \n",
    "    formats = default_formats()\n",
    "    if add_formats is not None: formats.update(add_formats)\n",
    "    \n",
    "    columns = []\n",
    "    for i,res in enumerate(res_list):\n",
    "        newcol = pd.concat([res[x] for x in stats_body], axis=1, ignore_index=True).set_axis(stats_body, axis=1)\n",
    "        for x in stats_body:\n",
    "            newcol[x] = newcol[x].map(formats[x].format)\n",
    "            if x == 'params':\n",
    "                newcol[x] += get_stars(res['pvalues'])\n",
    "            else:\n",
    "                newcol[x] = '(' + newcol[x] + ')'\n",
    "        newcol = newcol.stack(level=0) #set_index('coeff_names')\n",
    "        columns.append(newcol)\n",
    "\n",
    "    out = pd.concat(columns, axis = 1).loc[which_xvars].copy()\n",
    "    for i,res in enumerate(res_list):\n",
    "        for x in stats_bottom:\n",
    "            out.loc[x,i] = formats[x].format(res[x]) if x in formats else res[x]\n",
    "\n",
    "    if labels is not None:\n",
    "        for var in set(out.droplevel(1).index):\n",
    "            if var in labels: out = out.rename(index={var:labels[var]}, level=0)            \n",
    "\n",
    "    return out.astype('string').fillna('')"
   ]
  },
  {
   "cell_type": "code",
   "execution_count": null,
   "metadata": {},
   "outputs": [
    {
     "data": {
      "text/html": [
       "<div>\n",
       "<style scoped>\n",
       "    .dataframe tbody tr th:only-of-type {\n",
       "        vertical-align: middle;\n",
       "    }\n",
       "\n",
       "    .dataframe tbody tr th {\n",
       "        vertical-align: top;\n",
       "    }\n",
       "\n",
       "    .dataframe thead th {\n",
       "        text-align: right;\n",
       "    }\n",
       "</style>\n",
       "<table border=\"1\" class=\"dataframe\">\n",
       "  <thead>\n",
       "    <tr style=\"text-align: right;\">\n",
       "      <th></th>\n",
       "      <th></th>\n",
       "      <th>0</th>\n",
       "      <th>1</th>\n",
       "      <th>2</th>\n",
       "    </tr>\n",
       "  </thead>\n",
       "  <tbody>\n",
       "    <tr>\n",
       "      <th rowspan=\"2\" valign=\"top\">Intercept</th>\n",
       "      <th>params</th>\n",
       "      <td>0.51***</td>\n",
       "      <td>0.70***</td>\n",
       "      <td>0.73***</td>\n",
       "    </tr>\n",
       "    <tr>\n",
       "      <th>tstats</th>\n",
       "      <td>(3.91)</td>\n",
       "      <td>(21.48)</td>\n",
       "      <td>(167.36)</td>\n",
       "    </tr>\n",
       "    <tr>\n",
       "      <th rowspan=\"2\" valign=\"top\">x</th>\n",
       "      <th>params</th>\n",
       "      <td>0.35</td>\n",
       "      <td>0.57**</td>\n",
       "      <td>0.64*</td>\n",
       "    </tr>\n",
       "    <tr>\n",
       "      <th>tstats</th>\n",
       "      <td>(1.29)</td>\n",
       "      <td>(2.85)</td>\n",
       "      <td>(2.26)</td>\n",
       "    </tr>\n",
       "    <tr>\n",
       "      <th rowspan=\"2\" valign=\"top\">z</th>\n",
       "      <th>params</th>\n",
       "      <td></td>\n",
       "      <td>-0.64**</td>\n",
       "      <td>-0.77**</td>\n",
       "    </tr>\n",
       "    <tr>\n",
       "      <th>tstats</th>\n",
       "      <td></td>\n",
       "      <td>(-3.55)</td>\n",
       "      <td>(-2.91)</td>\n",
       "    </tr>\n",
       "    <tr>\n",
       "      <th>r2</th>\n",
       "      <th></th>\n",
       "      <td>0.19</td>\n",
       "      <td>0.49</td>\n",
       "      <td>0.35</td>\n",
       "    </tr>\n",
       "    <tr>\n",
       "      <th>nobs</th>\n",
       "      <th></th>\n",
       "      <td>9</td>\n",
       "      <td>9</td>\n",
       "      <td>9</td>\n",
       "    </tr>\n",
       "  </tbody>\n",
       "</table>\n",
       "</div>"
      ],
      "text/plain": [
       "                        0        1         2\n",
       "Intercept params  0.51***  0.70***   0.73***\n",
       "          tstats   (3.91)  (21.48)  (167.36)\n",
       "x         params     0.35   0.57**     0.64*\n",
       "          tstats   (1.29)   (2.85)    (2.26)\n",
       "z         params           -0.64**   -0.77**\n",
       "          tstats           (-3.55)   (-2.91)\n",
       "r2                   0.19     0.49      0.35\n",
       "nobs                    9        9         9"
      ]
     },
     "execution_count": null,
     "metadata": {},
     "output_type": "execute_result"
    }
   ],
   "source": [
    "d = to_df(res_list=[stats1, stats2, stats3], \n",
    "          which_xvars=['cons','x','z'], \n",
    "          add_formats={'r2':'{:.2f}'},\n",
    "          labels={'cons':'Intercept'})\n",
    "d"
   ]
  },
  {
   "cell_type": "code",
   "execution_count": null,
   "metadata": {},
   "outputs": [],
   "source": [
    "#| export\n",
    "def to_tex(get_pdf=True, open_pdf=False):\n",
    "    pass"
   ]
  },
  {
   "cell_type": "code",
   "execution_count": null,
   "metadata": {},
   "outputs": [],
   "source": [
    "#| hide\n",
    "import nbdev; nbdev.nbdev_export()"
   ]
  }
 ],
 "metadata": {
  "kernelspec": {
   "display_name": "python3",
   "language": "python",
   "name": "python3"
  }
 },
 "nbformat": 4,
 "nbformat_minor": 4
}
