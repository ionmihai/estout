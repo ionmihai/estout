{
 "cells": [
  {
   "attachments": {},
   "cell_type": "markdown",
   "metadata": {},
   "source": [
    "# utils\n",
    "\n",
    "> Helper functions for estout package"
   ]
  },
  {
   "cell_type": "code",
   "execution_count": null,
   "metadata": {},
   "outputs": [],
   "source": [
    "#|default_exp utils"
   ]
  },
  {
   "cell_type": "code",
   "execution_count": null,
   "metadata": {},
   "outputs": [],
   "source": [
    "#|hide \n",
    "from nbdev.showdoc import *\n",
    "from nbdev.test import *"
   ]
  },
  {
   "cell_type": "code",
   "execution_count": null,
   "metadata": {},
   "outputs": [],
   "source": [
    "#|export\n",
    "from __future__ import annotations\n",
    "import os, platform, functools\n",
    "from pathlib import Path\n",
    "from subprocess import PIPE, Popen, run, SubprocessError\n",
    "from typing import Dict, List, Tuple, Literal \n",
    "import pandas as pd \n",
    "import numpy as np"
   ]
  },
  {
   "cell_type": "code",
   "execution_count": null,
   "metadata": {},
   "outputs": [],
   "source": [
    "#| export\n",
    "def rgetattr(obj, attr, *args):\n",
    "    \"\"\"Recursive getattr (for nested attributes).\"\"\"\n",
    "    def _getattr(obj, attr):\n",
    "        return getattr(obj, attr, *args)\n",
    "    return functools.reduce(_getattr, [obj] + attr.split('.'))"
   ]
  },
  {
   "cell_type": "code",
   "execution_count": null,
   "metadata": {},
   "outputs": [],
   "source": [
    "#| export\n",
    "def rsetattr(obj, attr, val):\n",
    "    \"\"\"Recursive setattr (for nested attributes).\"\"\"\n",
    "    pre, _, post = attr.rpartition('.')\n",
    "    return setattr(rgetattr(obj, pre) if pre else obj, post, val)"
   ]
  },
  {
   "cell_type": "code",
   "execution_count": null,
   "metadata": {},
   "outputs": [],
   "source": [
    "#| export\n",
    "def default_formats() -> dict:\n",
    "    \"\"\"Default output formats for some very common statistics.\"\"\"\n",
    "    return  {'params':'{:.2f}', \n",
    "            'tstats':'{:.2f}', \n",
    "            'pvalues': '{:.3f}',\n",
    "            'se':'{:.2f}', \n",
    "            'r2':'{:.3f}',\n",
    "            'nobs':'{:.0f}'\n",
    "            }"
   ]
  },
  {
   "cell_type": "code",
   "execution_count": null,
   "metadata": {},
   "outputs": [
    {
     "data": {
      "text/plain": [
       "{'params': '{:.2f}',\n",
       " 'tstats': '{:.2f}',\n",
       " 'pvalues': '{:.3f}',\n",
       " 'se': '{:.2f}',\n",
       " 'r2': '{:.3f}',\n",
       " 'nobs': '{:.0f}'}"
      ]
     },
     "execution_count": null,
     "metadata": {},
     "output_type": "execute_result"
    }
   ],
   "source": [
    "default_formats()"
   ]
  },
  {
   "cell_type": "code",
   "execution_count": null,
   "metadata": {},
   "outputs": [],
   "source": [
    "#| export \n",
    "def get_stars(pvalues: pd.Series, # This is compared to key of 'stars' parameter to determine how many stars should be added\n",
    "            stars: dict = {.1:'*',.05:'**',.01:'***'} # Todo: default values to the left are star symbols that are not rendered correctly in markdown\n",
    "            ) -> pd.Series:\n",
    "    \"\"\"For each pvalue, check the lowest key in 'stars' for which the pvalue is smaller than that key, and return the corresponding nr of stars.\"\"\"\n",
    "\n",
    "    param_names = list(pvalues.index)\n",
    "\n",
    "    #Sort 'stars' by key (in reverse order)\n",
    "    ks = list(stars.keys())\n",
    "    ks.sort(reverse=True)\n",
    "    stars = {k: stars[k] for k in ks}\n",
    "\n",
    "    out = pd.Series('', index=param_names)\n",
    "    for param in param_names:    \n",
    "        for alpha in stars:\n",
    "            if pvalues[param] < alpha:\n",
    "                out[param] = stars[alpha]\n",
    "                \n",
    "    return out"
   ]
  },
  {
   "cell_type": "code",
   "execution_count": null,
   "metadata": {},
   "outputs": [
    {
     "data": {
      "text/plain": [
       "x1       \n",
       "x2     **\n",
       "x3    ***\n",
       "dtype: object"
      ]
     },
     "execution_count": null,
     "metadata": {},
     "output_type": "execute_result"
    }
   ],
   "source": [
    "get_stars(pvalues= pd.Series([0.5, .03, 0.002], index=['x1','x2','x3']))"
   ]
  },
  {
   "cell_type": "code",
   "execution_count": null,
   "metadata": {},
   "outputs": [
    {
     "data": {
      "text/plain": [
       "x1    ***\n",
       "x2     **\n",
       "x3     **\n",
       "dtype: object"
      ]
     },
     "execution_count": null,
     "metadata": {},
     "output_type": "execute_result"
    }
   ],
   "source": [
    "get_stars(pvalues= pd.Series([0.5, .03, 0.002], index=['x1','x2','x3']), \n",
    "          stars={0.4: '**', 0.9: '***'})"
   ]
  },
  {
   "cell_type": "code",
   "execution_count": null,
   "metadata": {},
   "outputs": [],
   "source": [
    "#| export\n",
    "def model_groups(column_group_names: Dict[str, List[int]], # Keys are group titles, values are lists of column indices included in each group\n",
    "                add_clines: bool=True # If True, adds lines below group names\n",
    "                ) -> str:\n",
    "    \"\"\"Returns LaTex code needed to add at the top of the table in order to give names to groups of columns in the table.\"\"\"\n",
    "    \n",
    "    group_names = ''\n",
    "    group_lines = ''\n",
    "    for key,value in column_group_names.items():\n",
    "        if type(key) != str:\n",
    "            raise TypeError('Each key in column_group_names must be a string')\n",
    "        if type(value) != list:\n",
    "            raise TypeError(\"Each value in column_group_names dict must be a list\")\n",
    "        if len(value) != 2:\n",
    "            raise TypeError(\"Each value in column_group_names dict must contain two integers\")\n",
    "        \n",
    "        value = sorted(value)\n",
    "        group_names += '& \\multicolumn{%i}{c}{%s} ' %(value[1]-value[0]+1,key)\n",
    "        if add_clines:\n",
    "            group_lines += '\\cline{%s-%s} ' %(str(value[0]+1),str(value[1]+1))\n",
    "\n",
    "    return group_names + ' \\\\\\\\ \\n' + group_lines + ' \\n'"
   ]
  },
  {
   "cell_type": "code",
   "execution_count": null,
   "metadata": {},
   "outputs": [
    {
     "name": "stdout",
     "output_type": "stream",
     "text": [
      "& \\multicolumn{2}{c}{Group 1} & \\multicolumn{2}{c}{Group 2}  \\\\ \n",
      "\\cline{1-2} \\cline{3-4}  \n",
      "\n"
     ]
    }
   ],
   "source": [
    "print(model_groups(column_group_names={'Group 1':[0,1], 'Group 2':[2,3]}))"
   ]
  },
  {
   "cell_type": "code",
   "execution_count": null,
   "metadata": {},
   "outputs": [],
   "source": [
    "#| export\n",
    "def tex_table_env(nr_columns: int, # Number of columns in the table\n",
    "                    env: Literal['tabularx','tabular*']='tabular*' # Latex tabular environment specification\n",
    "                    ) -> Tuple[str,str]:\n",
    "    \"\"\"Creates LaTex code to add at the top of the table to create the correct tabular environment.\"\"\"\n",
    "\n",
    "    if env=='tabularx':\n",
    "        header = '\\\\begin{tabularx}{\\\\textwidth}{@{}l *{%i}{>{\\centering\\\\arraybackslash}X}@{}}' %nr_columns \n",
    "        footer = '\\\\end{tabularx}'\n",
    "    elif env=='tabular*':\n",
    "        header = '\\\\begin{tabular*}{\\\\textwidth}{@{\\extracolsep{\\\\fill}}l*{%i}{c}}' %nr_columns\n",
    "        footer = '\\\\end{tabular*}'\n",
    "    else:\n",
    "        raise NotImplemented(f\"LaTex tabular environment {env} has not yet been implemented in tex_table_env()\")\n",
    "    return header,footer "
   ]
  },
  {
   "cell_type": "code",
   "execution_count": null,
   "metadata": {},
   "outputs": [
    {
     "name": "stdout",
     "output_type": "stream",
     "text": [
      "\\begin{tabularx}{\\textwidth}{@{}l *{4}{>{\\centering\\arraybackslash}X}@{}}\n",
      "\\end{tabularx}\n"
     ]
    }
   ],
   "source": [
    "header,footer = tex_table_env(nr_columns=4, env='tabularx')\n",
    "print(header)\n",
    "print(footer)"
   ]
  },
  {
   "cell_type": "code",
   "execution_count": null,
   "metadata": {},
   "outputs": [
    {
     "name": "stdout",
     "output_type": "stream",
     "text": [
      "\\begin{tabular*}{\\textwidth}{@{\\extracolsep{\\fill}}l*{4}{c}}\n",
      "\\end{tabular*}\n"
     ]
    }
   ],
   "source": [
    "header,footer = tex_table_env(nr_columns=4, env='tabular*')\n",
    "print(header)\n",
    "print(footer)"
   ]
  },
  {
   "cell_type": "code",
   "execution_count": null,
   "metadata": {},
   "outputs": [],
   "source": [
    "#|export\n",
    "def df_to_tex(df: pd.DataFrame, # If this has a multiindex, only the first level is kept\n",
    "                panel_title: str='',\n",
    "                palign: Literal['l','r','c']='l', # Alignment of panel title \n",
    "                col_groups: Dict[str, List[int]]=None, # Keys are group names; values are lists of consecutive indices of columns in the group\n",
    "                col_names: List[str]|bool=True, # If False, none; if True, use df column names; if list, gives custom column names\n",
    "                hlines: List[int]=[], # Row indices under which to place hline (use 0 for topline). adds \\smallskip under each line\n",
    "                tabular_env: str='tabular*' #LaTex tabular environment\n",
    "                ) -> str: \n",
    "    \"\"\"Creates LaTeX-formatted table from DataFrame.\"\"\"\n",
    "\n",
    "    nr_cols = len(df.columns)\n",
    "    df = df.astype('string')\n",
    "    if isinstance(df.index, pd.MultiIndex): df = df.droplevel(1)\n",
    "\n",
    "    header,footer = tex_table_env(nr_cols, tabular_env)\n",
    "    out = header + ' \\n'\n",
    "\n",
    "    if panel_title:\n",
    "        out += f'\\multicolumn{{{nr_cols+1}}}{{@{{}} {palign}}}{{{panel_title}}}' + ' \\\\\\\\ \\n'\n",
    "\n",
    "    if col_groups: out += model_groups(col_groups)\n",
    "    if col_names is True: col_names = [str(x) for x in df.columns]\n",
    "    if col_names: out += ' & '.join([''] + col_names) + ' \\\\\\\\ \\n'\n",
    "    for rownr in range(df.shape[0]):\n",
    "        out += str(df.index[rownr]) + ' & '  + ' & '.join(list(df.iloc[rownr])) +  ' \\\\\\\\ \\n' \n",
    "    out = out + footer\n",
    "\n",
    "    linebreaks = [i for i in range(len(out)) if out[i:].startswith('\\n')]\n",
    "    for line_nr, pos in reversed(list(enumerate(linebreaks))):\n",
    "        if line_nr in hlines: out = out[:pos+1] + ' \\hline \\\\noalign{\\smallskip} \\n' + out[pos+1:]\n",
    "\n",
    "    return out"
   ]
  },
  {
   "attachments": {},
   "cell_type": "markdown",
   "metadata": {},
   "source": [
    "Panel title (if any) will appear first, then column group names(if any), then column names (if any), then the body of the table.\n"
   ]
  },
  {
   "cell_type": "code",
   "execution_count": null,
   "metadata": {},
   "outputs": [
    {
     "data": {
      "text/html": [
       "<div>\n",
       "<style scoped>\n",
       "    .dataframe tbody tr th:only-of-type {\n",
       "        vertical-align: middle;\n",
       "    }\n",
       "\n",
       "    .dataframe tbody tr th {\n",
       "        vertical-align: top;\n",
       "    }\n",
       "\n",
       "    .dataframe thead th {\n",
       "        text-align: right;\n",
       "    }\n",
       "</style>\n",
       "<table border=\"1\" class=\"dataframe\">\n",
       "  <thead>\n",
       "    <tr style=\"text-align: right;\">\n",
       "      <th></th>\n",
       "      <th>A</th>\n",
       "      <th>B</th>\n",
       "      <th>C</th>\n",
       "      <th>D</th>\n",
       "    </tr>\n",
       "  </thead>\n",
       "  <tbody>\n",
       "    <tr>\n",
       "      <th>Var1</th>\n",
       "      <td>0.988981</td>\n",
       "      <td>0.598698</td>\n",
       "      <td>0.702370</td>\n",
       "      <td>0.442639</td>\n",
       "    </tr>\n",
       "    <tr>\n",
       "      <th></th>\n",
       "      <td>0.620074</td>\n",
       "      <td>0.983868</td>\n",
       "      <td>0.726391</td>\n",
       "      <td>0.261430</td>\n",
       "    </tr>\n",
       "    <tr>\n",
       "      <th>Var2</th>\n",
       "      <td>0.781038</td>\n",
       "      <td>0.537924</td>\n",
       "      <td>0.275638</td>\n",
       "      <td>0.017764</td>\n",
       "    </tr>\n",
       "    <tr>\n",
       "      <th></th>\n",
       "      <td>0.331525</td>\n",
       "      <td>0.288122</td>\n",
       "      <td>0.180170</td>\n",
       "      <td>0.966439</td>\n",
       "    </tr>\n",
       "    <tr>\n",
       "      <th>R2</th>\n",
       "      <td>0.504925</td>\n",
       "      <td>0.832803</td>\n",
       "      <td>0.681793</td>\n",
       "      <td>0.566745</td>\n",
       "    </tr>\n",
       "  </tbody>\n",
       "</table>\n",
       "</div>"
      ],
      "text/plain": [
       "             A         B         C         D\n",
       "Var1  0.988981  0.598698  0.702370  0.442639\n",
       "      0.620074  0.983868  0.726391  0.261430\n",
       "Var2  0.781038  0.537924  0.275638  0.017764\n",
       "      0.331525  0.288122  0.180170  0.966439\n",
       "R2    0.504925  0.832803  0.681793  0.566745"
      ]
     },
     "execution_count": null,
     "metadata": {},
     "output_type": "execute_result"
    }
   ],
   "source": [
    "df = pd.DataFrame(np.random.rand(5,4), index=['Var1','','Var2','','R2'], columns=list('ABCD'))\n",
    "df"
   ]
  },
  {
   "cell_type": "code",
   "execution_count": null,
   "metadata": {},
   "outputs": [
    {
     "name": "stdout",
     "output_type": "stream",
     "text": [
      "\\begin{tabular*}{\\textwidth}{@{\\extracolsep{\\fill}}l*{4}{c}} \n",
      " \\hline \\noalign{\\smallskip} \n",
      "\\multicolumn{5}{@{} l}{Dependent variable is Y} \\\\ \n",
      "& \\multicolumn{2}{c}{Group 1} & \\multicolumn{2}{c}{Group 2}  \\\\ \n",
      " \\hline \\noalign{\\smallskip} \n",
      "\\cline{2-3} \\cline{4-5}  \n",
      " & A & B & C & D \\\\ \n",
      "Var1 & 0.9889809547447591 & 0.5986977239389801 & 0.7023701613078716 & 0.4426388721630653 \\\\ \n",
      " & 0.620074079120184 & 0.9838676236318822 & 0.7263907806852653 & 0.2614303336710766 \\\\ \n",
      "Var2 & 0.7810378293638999 & 0.5379242479777725 & 0.2756380408586756 & 0.017763905838882765 \\\\ \n",
      " \\hline \\noalign{\\smallskip} \n",
      " & 0.33152546362433044 & 0.28812168833623875 & 0.1801698611970849 & 0.9664386788512616 \\\\ \n",
      "R2 & 0.5049251235823664 & 0.8328025283692659 & 0.6817932785765529 & 0.5667447260980248 \\\\ \n",
      "\\end{tabular*}\n"
     ]
    }
   ],
   "source": [
    "tex_string = df_to_tex(df, panel_title='Dependent variable is Y',\n",
    "                        col_groups={'Group 1':[1,2], 'Group 2': [3,4]},\n",
    "                        hlines=[0,2,7])\n",
    "print(tex_string)"
   ]
  },
  {
   "cell_type": "code",
   "execution_count": null,
   "metadata": {},
   "outputs": [],
   "source": [
    "#|export\n",
    "def make_pdf_from_tex(tex_file_path: Path|str) -> Path:\n",
    "    \"\"\"Output PDF is created in the same folder as source tex file. Requires TexLive and its pdflatex utility\"\"\"\n",
    "\n",
    "    if isinstance(tex_file_path,str): tex_file_path = Path(tex_file_path)\n",
    "    os.chdir(tex_file_path.parent)   \n",
    "    process = Popen(['pdflatex',tex_file_path], stdin=PIPE, stdout=PIPE, stderr=PIPE,shell=False)\n",
    "    _ , errors = process.communicate()\n",
    "    if process.returncode == 0: print(\"PDF creation successful!\")\n",
    "    else: print(\"PDF creation failed. Errors:\", errors.decode('utf-8'))\n",
    "    return Path(str.replace(str(tex_file_path), '.tex', '.pdf'))"
   ]
  },
  {
   "cell_type": "code",
   "execution_count": null,
   "metadata": {},
   "outputs": [],
   "source": [
    "#|export\n",
    "def open_pdf_file(file_path):\n",
    "    try:\n",
    "        if platform.system() == \"Windows\": run(['start', file_path])\n",
    "        else: run(['open', file_path])\n",
    "    except FileNotFoundError:\n",
    "        print(f\"File not found: {file_path}\")\n",
    "    except SubprocessError:\n",
    "        print(f\"Error opening PDF file: {file_path}\")"
   ]
  },
  {
   "cell_type": "code",
   "execution_count": null,
   "metadata": {},
   "outputs": [],
   "source": [
    "#| hide\n",
    "import nbdev; nbdev.nbdev_export()"
   ]
  }
 ],
 "metadata": {
  "kernelspec": {
   "display_name": "python3",
   "language": "python",
   "name": "python3"
  }
 },
 "nbformat": 4,
 "nbformat_minor": 4
}
