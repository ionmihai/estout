{
 "cells": [
  {
   "attachments": {},
   "cell_type": "markdown",
   "metadata": {},
   "source": [
    "# utils\n",
    "\n",
    "> Helper functions for estout package"
   ]
  },
  {
   "cell_type": "code",
   "execution_count": null,
   "metadata": {},
   "outputs": [],
   "source": [
    "#|default_exp utils"
   ]
  },
  {
   "attachments": {},
   "cell_type": "markdown",
   "metadata": {},
   "source": [
    "Additional info  "
   ]
  },
  {
   "cell_type": "code",
   "execution_count": null,
   "metadata": {},
   "outputs": [],
   "source": [
    "#|hide \n",
    "from nbdev.showdoc import *\n",
    "from nbdev.test import *"
   ]
  },
  {
   "cell_type": "code",
   "execution_count": null,
   "metadata": {},
   "outputs": [],
   "source": [
    "#|export\n",
    "import functools\n",
    "from typing import Dict, List, Tuple \n",
    "import pandas as pd "
   ]
  },
  {
   "cell_type": "code",
   "execution_count": null,
   "metadata": {},
   "outputs": [],
   "source": [
    "#| export\n",
    "def rgetattr(obj, attr, *args):\n",
    "    \"\"\"Recursive getattr (for nested attributes).\"\"\"\n",
    "    def _getattr(obj, attr):\n",
    "        return getattr(obj, attr, *args)\n",
    "    return functools.reduce(_getattr, [obj] + attr.split('.'))"
   ]
  },
  {
   "cell_type": "code",
   "execution_count": null,
   "metadata": {},
   "outputs": [],
   "source": [
    "#| export\n",
    "def rsetattr(obj, attr, val):\n",
    "    \"\"\"Recursive setattr (for nested attributes).\"\"\"\n",
    "    pre, _, post = attr.rpartition('.')\n",
    "    return setattr(rgetattr(obj, pre) if pre else obj, post, val)"
   ]
  },
  {
   "cell_type": "code",
   "execution_count": null,
   "metadata": {},
   "outputs": [],
   "source": [
    "#| export\n",
    "def default_formats() -> dict:\n",
    "    \"\"\"Default output formats for some very common statistics.\"\"\"\n",
    "    return  {'params':'{:.2f}', \n",
    "            'tstats':'{:.2f}', \n",
    "            'pvalues': '{:.3f}',\n",
    "            'se':'{:.2f}', \n",
    "            'r2':'{:.3f}',\n",
    "            'nobs':'{:.0f}'\n",
    "            }"
   ]
  },
  {
   "cell_type": "code",
   "execution_count": null,
   "metadata": {},
   "outputs": [
    {
     "data": {
      "text/plain": [
       "{'params': '{:.2f}',\n",
       " 'tstats': '{:.2f}',\n",
       " 'pvalues': '{:.3f}',\n",
       " 'se': '{:.2f}',\n",
       " 'r2': '{:.3f}',\n",
       " 'nobs': '{:.0f}'}"
      ]
     },
     "execution_count": null,
     "metadata": {},
     "output_type": "execute_result"
    }
   ],
   "source": [
    "default_formats()"
   ]
  },
  {
   "cell_type": "code",
   "execution_count": null,
   "metadata": {},
   "outputs": [],
   "source": [
    "#| export \n",
    "def get_stars(pvalues: pd.Series, # this is compared to key of 'stars' parameter to determine how many stars should be added\n",
    "            stars: dict = {.1:'*',.05:'**',.01:'***'} # todo: default values to the left are star symbols that are not rendered correctly in markdown\n",
    "            ) -> pd.Series:\n",
    "    \"\"\"For each pvalue, check the lowest key in 'stars' for which the pvalue is smaller than that key, and return the corresponding nr of stars.\"\"\"\n",
    "\n",
    "    param_names = list(pvalues.index)\n",
    "\n",
    "    #Sort 'stars' by key (in reverse order)\n",
    "    ks = list(stars.keys())\n",
    "    ks.sort(reverse=True)\n",
    "    stars = {k: stars[k] for k in ks}\n",
    "\n",
    "    out = pd.Series('', index=param_names)\n",
    "    for param in param_names:    \n",
    "        for alpha in stars:\n",
    "            if pvalues[param] < alpha:\n",
    "                out[param] = stars[alpha]\n",
    "                \n",
    "    return out"
   ]
  },
  {
   "cell_type": "code",
   "execution_count": null,
   "metadata": {},
   "outputs": [
    {
     "data": {
      "text/plain": [
       "x1       \n",
       "x2     **\n",
       "x3    ***\n",
       "dtype: object"
      ]
     },
     "execution_count": null,
     "metadata": {},
     "output_type": "execute_result"
    }
   ],
   "source": [
    "get_stars(pvalues= pd.Series([0.5, .03, 0.002], index=['x1','x2','x3']))"
   ]
  },
  {
   "cell_type": "code",
   "execution_count": null,
   "metadata": {},
   "outputs": [
    {
     "data": {
      "text/plain": [
       "x1    ***\n",
       "x2     **\n",
       "x3     **\n",
       "dtype: object"
      ]
     },
     "execution_count": null,
     "metadata": {},
     "output_type": "execute_result"
    }
   ],
   "source": [
    "get_stars(pvalues= pd.Series([0.5, .03, 0.002], index=['x1','x2','x3']), \n",
    "          stars={0.4: '**', 0.9: '***'})"
   ]
  },
  {
   "cell_type": "code",
   "execution_count": null,
   "metadata": {},
   "outputs": [],
   "source": [
    "#| export\n",
    "def model_groups(column_group_names: Dict[str, List[int]], # keys are group titles, values are lists of column indices included in each group\n",
    "                add_clines: bool=True # if True, adds lines below group names\n",
    "                ) -> str:\n",
    "    \"\"\"Returns LaTex code needed to add at the top of the table in order to give names to groups of columns in the table.\"\"\"\n",
    "    \n",
    "    group_names = ''\n",
    "    group_lines = ''\n",
    "    for key,value in column_group_names.items():\n",
    "        if type(key) != str:\n",
    "            raise TypeError('Each key in column_group_names must be a string')\n",
    "        if type(value) != list:\n",
    "            raise TypeError(\"Each value in column_group_names dict must be a list\")\n",
    "        if len(value) != 2:\n",
    "            raise TypeError(\"Each value in column_group_names dict must contain two integers\")\n",
    "        \n",
    "        value = sorted(value)\n",
    "        group_names += '& \\multicolumn{%i}{c}{%s} ' %(value[1]-value[0]+1,key)\n",
    "        if add_clines:\n",
    "            group_lines += '\\cline{%s-%s} ' %(str(value[0]+1),str(value[1]+1))\n",
    "\n",
    "    return group_names + ' \\\\\\\\ \\n' + group_lines + ' \\n'"
   ]
  },
  {
   "cell_type": "code",
   "execution_count": null,
   "metadata": {},
   "outputs": [
    {
     "name": "stdout",
     "output_type": "stream",
     "text": [
      "& \\multicolumn{2}{c}{Group 1} & \\multicolumn{2}{c}{Group 2}  \\\\ \n",
      "\\cline{1-2} \\cline{3-4}  \n",
      "\n"
     ]
    }
   ],
   "source": [
    "print(model_groups(column_group_names={'Group 1':[0,1], 'Group 2':[2,3]}))"
   ]
  },
  {
   "cell_type": "code",
   "execution_count": null,
   "metadata": {},
   "outputs": [],
   "source": [
    "#| export\n",
    "def tex_table_env(nr_columns: int, # number of columns in the table\n",
    "                    env: str='tabularx' # latex tabular environment specification. either 'tabularx' or 'tabular*'\n",
    "                    ) -> Tuple[str,str]:\n",
    "    \"\"\"Creates LaTex code to add at the top of the table to create the correct tabular environment.\"\"\"\n",
    "\n",
    "    if env=='tabularx':\n",
    "        header = '\\\\begin{tabularx}{\\\\textwidth}{@{}l *{%i}{>{\\centering\\\\arraybackslash}X}@{}}' %nr_columns \n",
    "        footer = '\\\\end{tabularx}'\n",
    "    elif env=='tabular*':\n",
    "        header = '\\\\begin{tabular*}{\\\\textwidth}{@{\\extracolsep{\\\\fill}}l*{%i}{c}}' %nr_columns\n",
    "        footer = '\\\\end{tabular*}'\n",
    "    else:\n",
    "        raise NotImplemented(f\"LaTex tabular environment {env} has not yet been implemented in tex_table_env()\")\n",
    "    return header,footer "
   ]
  },
  {
   "cell_type": "code",
   "execution_count": null,
   "metadata": {},
   "outputs": [
    {
     "name": "stdout",
     "output_type": "stream",
     "text": [
      "\\begin{tabularx}{\\textwidth}{@{}l *{4}{>{\\centering\\arraybackslash}X}@{}}\n",
      "\\end{tabularx}\n"
     ]
    }
   ],
   "source": [
    "header,footer = tex_table_env(nr_columns=4, env='tabularx')\n",
    "print(header)\n",
    "print(footer)"
   ]
  },
  {
   "cell_type": "code",
   "execution_count": null,
   "metadata": {},
   "outputs": [
    {
     "name": "stdout",
     "output_type": "stream",
     "text": [
      "\\begin{tabular*}{\\textwidth}{@{\\extracolsep{\\fill}}l*{4}{c}}\n",
      "\\end{tabular*}\n"
     ]
    }
   ],
   "source": [
    "header,footer = tex_table_env(nr_columns=4, env='tabular*')\n",
    "print(header)\n",
    "print(footer)"
   ]
  },
  {
   "cell_type": "code",
   "execution_count": null,
   "metadata": {},
   "outputs": [],
   "source": [
    "#| hide\n",
    "import nbdev; nbdev.nbdev_export()"
   ]
  }
 ],
 "metadata": {
  "kernelspec": {
   "display_name": "python3",
   "language": "python",
   "name": "python3"
  }
 },
 "nbformat": 4,
 "nbformat_minor": 4
}
